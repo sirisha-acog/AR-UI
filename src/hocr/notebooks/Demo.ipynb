{
 "cells": [
  {
   "cell_type": "code",
   "execution_count": null,
   "metadata": {},
   "outputs": [],
   "source": [
    "%%html\n",
    "<style>\n",
    ".output_png {\n",
    "    display: table-cell;\n",
    "    text-align: center;\n",
    "    vertical-align: middle;\n",
    "}\n",
    "\n",
    "</style>"
   ]
  },
  {
   "cell_type": "code",
   "execution_count": null,
   "metadata": {},
   "outputs": [],
   "source": [
    "# Imports\n",
    "import ipywidgets as widgets\n",
    "from IPython.display import Javascript, display\n",
    "import os\n",
    "import matplotlib.pyplot as plt\n",
    "import cv2"
   ]
  },
  {
   "cell_type": "markdown",
   "metadata": {},
   "source": [
    "## Background\n",
    "---\n",
    "\n",
    "<div style=\"text-align: justify\">Background about the project</div>"
   ]
  },
  {
   "cell_type": "markdown",
   "metadata": {},
   "source": [
    "## Pipeline\n",
    "---"
   ]
  },
  {
   "cell_type": "markdown",
   "metadata": {},
   "source": []
  },
  {
   "cell_type": "code",
   "execution_count": null,
   "metadata": {},
   "outputs": [],
   "source": [
    "# NBVAL_IGNORE_OUTPUT\n",
    "cust = ['OMG', 'IPG', 'Katz']\n",
    "customer_dropdown = widgets.Dropdown(\n",
    "    options=cust,\n",
    "    # rows=10,\n",
    "    description='Select a customer :',\n",
    "    style={'description_width': 'initial'},\n",
    "    disabled=False\n",
    ")\n",
    "customer_dropdown"
   ]
  },
  {
   "cell_type": "code",
   "execution_count": null,
   "metadata": {},
   "outputs": [],
   "source": [
    "# merge csv download"
   ]
  },
  {
   "cell_type": "code",
   "execution_count": null,
   "metadata": {},
   "outputs": [],
   "source": [
    "# NBVAL_IGNORE_OUTPUT\n",
    "def run_all(ev):\n",
    "    display(Javascript('IPython.notebook.execute_cells_below()'))\n",
    "    \n",
    "button = widgets.Button(\n",
    "    description='Run model',\n",
    "    disabled=False,\n",
    "    button_style='primary'\n",
    ")\n",
    "button.on_click(run_all)\n",
    "display(button)"
   ]
  },
  {
   "cell_type": "code",
   "execution_count": null,
   "metadata": {},
   "outputs": [],
   "source": [
    "images = os.listdir(\"/home/jupyter/notebooks/demo_images/\")\n",
    "def printer(image):\n",
    "    im = cv2.imread(\"/home/jupyter/notebooks/demo_images/\"+ image, 0)\n",
    "    plt.figure(figsize=(30,30))\n",
    "    plt.imshow(im, cmap=\"gray\")\n",
    "    plt.xticks([])\n",
    "    plt.yticks([])\n",
    "# This should be executed in an IPython notebook!\n",
    "widgets.interact(printer, image = images);\n"
   ]
  },
  {
   "cell_type": "code",
   "execution_count": null,
   "metadata": {},
   "outputs": [],
   "source": [
    "from aganitha_hocr import controller\n",
    "import logging\n",
    "logger = logging.getLogger(__name__)\n",
    "logger.setLevel(logging.ERROR)\n",
    "filepath = '/home/jupyter/data/demo_data/'\n",
    "filenames = os.listdir('/home/jupyter/data/demo_data/')\n",
    "for filename in filenames:\n",
    "    print(os.path.join(filepath,filename))\n",
    "    # controller.main(filepath=os.path.join(filepath,filename))\n",
    "    file, extracted_params, temp = controller.main(filepath=os.path.join(filepath,filename))\n",
    "    store_path = '/home/jupyter/data/demo_output'\n",
    "    controller.extract_data(file,temp,extracted_params,store_path)"
   ]
  }
 ],
 "metadata": {
  "kernelspec": {
   "display_name": "Python 3",
   "language": "python",
   "name": "python3"
  },
  "language_info": {
   "codemirror_mode": {
    "name": "ipython",
    "version": 3
   },
   "file_extension": ".py",
   "mimetype": "text/x-python",
   "name": "python",
   "nbconvert_exporter": "python",
   "pygments_lexer": "ipython3",
   "version": "3.7.4"
  }
 },
 "nbformat": 4,
 "nbformat_minor": 4
}
