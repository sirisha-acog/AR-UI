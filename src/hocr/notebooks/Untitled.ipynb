{
 "cells": [
  {
   "cell_type": "code",
   "execution_count": 1,
   "metadata": {},
   "outputs": [],
   "source": [
    "import pandas as pd"
   ]
  },
  {
   "cell_type": "code",
   "execution_count": 2,
   "metadata": {},
   "outputs": [
    {
     "data": {
      "text/plain": [
       "0      /Users/adarsh/work/ar-automation/new_data/date...\n",
       "1      /Users/adarsh/work/ar-automation/new_data/date...\n",
       "2      /Users/adarsh/work/ar-automation/new_data/date...\n",
       "3      /Users/adarsh/work/ar-automation/new_data/date...\n",
       "4      /Users/adarsh/work/ar-automation/new_data/date...\n",
       "                             ...                        \n",
       "929    /Users/adarsh/work/ar-automation/new_data/date...\n",
       "930    /Users/adarsh/work/ar-automation/new_data/date...\n",
       "931    /Users/adarsh/work/ar-automation/new_data/date...\n",
       "932    /Users/adarsh/work/ar-automation/new_data/date...\n",
       "933    /Users/adarsh/work/ar-automation/new_data/date...\n",
       "Name: Path to Image, Length: 934, dtype: object"
      ]
     },
     "metadata": {},
     "output_type": "display_data"
    }
   ],
   "source": [
    "df = pd.read_csv(\"Combined_data.csv\")\n",
    "display(df['Path to Image'])"
   ]
  },
  {
   "cell_type": "code",
   "execution_count": 3,
   "metadata": {},
   "outputs": [
    {
     "data": {
      "text/plain": [
       "<bound method NDFrame.head of       Deposit Date  CMG Account Number Lockbox Number   Payor  Advertiser  \\\n",
       "0    August 7 2020                 NaN       lb809036     MMS         NaN   \n",
       "1    August 7 2020                 NaN        lb83191     MMS         NaN   \n",
       "2    July 1 2020 1                 NaN        lb83293     MMS         NaN   \n",
       "3    July 1 2020 1                 NaN        lb83293     MMS         NaN   \n",
       "4    July 1 2020 1                 NaN        lb83293     MMS         NaN   \n",
       "..             ...                 ...            ...     ...         ...   \n",
       "929     07/01/2020                 NaN        lb83191  GroupM         NaN   \n",
       "930     07/31/2020                 NaN        lb83192  GroupM         NaN   \n",
       "931     07/31/2020                 NaN        lb83200  GroupM         NaN   \n",
       "932     07/01/2020                 NaN        lb83196  GroupM         NaN   \n",
       "933     07/01/2020                 NaN        lb83196  GroupM         NaN   \n",
       "\n",
       "     Payor Account Number  Payor Check Number  Check Amount  \\\n",
       "0                     NaN        1.505657e+08      30045.80   \n",
       "1                     NaN        1.505659e+08       2052.75   \n",
       "2                     NaN        1.505563e+08      65462.75   \n",
       "3                     NaN        1.505563e+08      65462.75   \n",
       "4                     NaN        1.505563e+08      65462.75   \n",
       "..                    ...                 ...           ...   \n",
       "929                   NaN        3.000228e+09       6749.00   \n",
       "930                   NaN        3.000229e+09       2218.50   \n",
       "931                   NaN        3.000229e+09        758.73   \n",
       "932                   NaN        3.000228e+09       3472.25   \n",
       "933                   NaN        3.000228e+09       3472.25   \n",
       "\n",
       "     Remittance Line Number  Gross Amount  Discount/Adj. Net Amount Paid  \\\n",
       "0                       1.0           NaN            NaN         30045.8   \n",
       "1                       1.0           NaN            NaN         2052.75   \n",
       "2                       1.0           NaN            NaN        10875.75   \n",
       "3                       2.0           NaN            NaN         18742.5   \n",
       "4                       3.0           NaN            NaN          8134.5   \n",
       "..                      ...           ...            ...             ...   \n",
       "929                     2.0       6749.00            NaN          6749.0   \n",
       "930                     1.0       2218.50            NaN          2218.5   \n",
       "931                     1.0        758.73            NaN          758.73   \n",
       "932                     1.0       3472.25            NaN         3472.25   \n",
       "933                     2.0       3472.25            NaN             0.0   \n",
       "\n",
       "     Status                                      Path to Image Invoice Date  \\\n",
       "0         1  /Users/adarsh/work/ar-automation/new_data/date...     03/29/20   \n",
       "1         1  /Users/adarsh/work/ar-automation/new_data/date...     03/29/20   \n",
       "2         1  /Users/adarsh/work/ar-automation/new_data/date...     03/29/20   \n",
       "3         1  /Users/adarsh/work/ar-automation/new_data/date...     03/29/20   \n",
       "4         1  /Users/adarsh/work/ar-automation/new_data/date...     03/29/20   \n",
       "..      ...                                                ...          ...   \n",
       "929       1  /Users/adarsh/work/ar-automation/new_data/date...   04/26/2020   \n",
       "930       1  /Users/adarsh/work/ar-automation/new_data/date...   05/31/2020   \n",
       "931       1  /Users/adarsh/work/ar-automation/new_data/date...   05/31/2020   \n",
       "932       1  /Users/adarsh/work/ar-automation/new_data/date...   04/26/2020   \n",
       "933       1  /Users/adarsh/work/ar-automation/new_data/date...   04/26/2020   \n",
       "\n",
       "        Period  \n",
       "0     651612-1  \n",
       "1     666355-1  \n",
       "2    9678065-3  \n",
       "3    9678064-3  \n",
       "4    9678092-1  \n",
       "..         ...  \n",
       "929   657380-1  \n",
       "930   675846-1  \n",
       "931   670578-2  \n",
       "932   651620-1  \n",
       "933   680402-1  \n",
       "\n",
       "[934 rows x 16 columns]>"
      ]
     },
     "execution_count": 3,
     "metadata": {},
     "output_type": "execute_result"
    }
   ],
   "source": [
    "df.head"
   ]
  },
  {
   "cell_type": "code",
   "execution_count": null,
   "metadata": {},
   "outputs": [],
   "source": [
    "for i in range(0,len(df)):\n",
    "    print(df['Path to Image'][i])\n",
    "    df['Path to Image'][i] = df['Path to Image'][i].replace('/Users/adarsh/work/ar-automation/new_data/date-wise-data-complete', '/data/date-wise-data-complete')\n",
    "    \n",
    "    "
   ]
  },
  {
   "cell_type": "code",
   "execution_count": null,
   "metadata": {},
   "outputs": [],
   "source": [
    "df[\"Check Amount\"] = df[\"Check Amount\"].astype(str)\n",
    "df[\"Gross Amount\"] = df[\"Gross Amount\"].astype(str)\n",
    "df[\"Net Amount Paid\"] = df[\"Net Amount Paid\"].astype(str)"
   ]
  },
  {
   "cell_type": "code",
   "execution_count": null,
   "metadata": {},
   "outputs": [],
   "source": [
    "df[\"Check Amount\"][0]"
   ]
  },
  {
   "cell_type": "code",
   "execution_count": null,
   "metadata": {},
   "outputs": [],
   "source": [
    "for i in range(0,len(df)):\n",
    "    if '-' in df[\"Check Amount\"][i]:\n",
    "        print(\"Okay\")\n",
    "        df[\"Check Amount\"][i] = df[\"Check Amount\"][i].replace(\"-\", \"\")\n",
    "        \n",
    "for i in range(0,len(df)):\n",
    "    if '-' in df[\"Gross Amount\"][i]:\n",
    "        print(\"Okay\")\n",
    "        df[\"Gross Amount\"][i] = df[\"Gross Amount\"][i].replace(\"-\", \"\")\n",
    "        \n",
    "for i in range(0,len(df)):\n",
    "    if '-' in df[\"Net Amount Paid\"][i]:\n",
    "        print(\"Okay\")\n",
    "        df[\"Net Amount Paid\"][i] = df[\"Net Amount Paid\"][i].replace(\"-\", \"\")"
   ]
  },
  {
   "cell_type": "code",
   "execution_count": null,
   "metadata": {},
   "outputs": [],
   "source": [
    "df.head()"
   ]
  },
  {
   "cell_type": "code",
   "execution_count": null,
   "metadata": {},
   "outputs": [],
   "source": [
    "df.to_csv(\"Combine_csv_new.csv\", index=False)"
   ]
  }
 ],
 "metadata": {
  "kernelspec": {
   "display_name": "Python 3",
   "language": "python",
   "name": "python3"
  },
  "language_info": {
   "codemirror_mode": {
    "name": "ipython",
    "version": 3
   },
   "file_extension": ".py",
   "mimetype": "text/x-python",
   "name": "python",
   "nbconvert_exporter": "python",
   "pygments_lexer": "ipython3",
   "version": "3.7.9"
  }
 },
 "nbformat": 4,
 "nbformat_minor": 4
}
