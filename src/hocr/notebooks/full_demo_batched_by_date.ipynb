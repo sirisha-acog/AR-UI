{
 "cells": [
  {
   "cell_type": "code",
   "execution_count": 1,
   "metadata": {},
   "outputs": [
    {
     "data": {
      "text/html": [
       "<style>\n",
       ".output_png {\n",
       "    text-align:center;\n",
       "    display:table-cell;\n",
       "    vertical-align:middle;\n",
       "}\n",
       "table.dataframe td, table.dataframe th {\n",
       "    border: 1px  black solid !important;\n",
       "    color: black !important;\n",
       "    margin-left: auto;\n",
       "    margin-right: auto;\n",
       "}\n",
       "div.output_area .rendered_html table{\n",
       "    margin-left: auto;\n",
       "    margin-right: auto;\n",
       "}\n",
       "</style>\n"
      ],
      "text/plain": [
       "<IPython.core.display.HTML object>"
      ]
     },
     "metadata": {},
     "output_type": "display_data"
    }
   ],
   "source": [
    "%%html\n",
    "<style>\n",
    ".output_png {\n",
    "    text-align:center;\n",
    "    display:table-cell;\n",
    "    vertical-align:middle;\n",
    "}\n",
    "table.dataframe td, table.dataframe th {\n",
    "    border: 1px  black solid !important;\n",
    "    color: black !important;\n",
    "    margin-left: auto;\n",
    "    margin-right: auto;\n",
    "}\n",
    "div.output_area .rendered_html table{\n",
    "    margin-left: auto;\n",
    "    margin-right: auto;\n",
    "}\n",
    "</style>"
   ]
  },
  {
   "cell_type": "markdown",
   "metadata": {},
   "source": [
    "<img src=\"./AR-Automation-process-flow.png\" alt=\"workflow\" title=\"\" />"
   ]
  },
  {
   "cell_type": "code",
   "execution_count": 3,
   "metadata": {},
   "outputs": [
    {
     "name": "stderr",
     "output_type": "stream",
     "text": [
      "DEBUG:matplotlib.pyplot:Loaded backend module://ipykernel.pylab.backend_inline version unknown.\n"
     ]
    }
   ],
   "source": [
    "# Imports\n",
    "import ipywidgets as widgets\n",
    "from IPython.display import Javascript, display\n",
    "import os\n",
    "import matplotlib.pyplot as plt\n",
    "import cv2\n",
    "import aganitha_hocr\n",
    "from aganitha_hocr import controller\n",
    "import pandas as pd\n",
    "from IPython.display import display, clear_output\n",
    "import os, fnmatch\n",
    "import glob\n",
    "import warnings\n",
    "import logging\n",
    "warnings.filterwarnings('ignore')\n",
    "logging.basicConfig(level=logging.ERROR)\n",
    "%matplotlib inline"
   ]
  },
  {
   "cell_type": "code",
   "execution_count": 4,
   "metadata": {},
   "outputs": [],
   "source": [
    "def find(pattern, path):\n",
    "    result = []\n",
    "    for root, dirs, files in os.walk(path):\n",
    "        for name in files:\n",
    "            if fnmatch.fnmatch(name, pattern):\n",
    "                result.append(os.path.join(root, name))\n",
    "    return result"
   ]
  },
  {
   "cell_type": "code",
   "execution_count": 28,
   "metadata": {},
   "outputs": [
    {
     "data": {
      "text/plain": [
       "['07.06.20', '14.08.20', '09.01.20', '18.08.20', '22.07.20', '07.07.20']"
      ]
     },
     "execution_count": 28,
     "metadata": {},
     "output_type": "execute_result"
    }
   ],
   "source": [
    "date_folders"
   ]
  },
  {
   "cell_type": "code",
   "execution_count": null,
   "metadata": {},
   "outputs": [],
   "source": [
    "prev = lambda obj: obj.prev()\n",
    "\n",
    "class EnableBackwardIterator:\n",
    "    def __init__(self, iterator, lst):\n",
    "        self.iterator = iterator\n",
    "        self.history = lst\n",
    "        self.i = 0\n",
    "\n",
    "    def next(self):\n",
    "        if self.i < len(self.history)-2:\n",
    "            self.i += 1\n",
    "            return self.history[self.i]\n",
    "        elif self.i == len(self.history)-1:\n",
    "            self.i = 0\n",
    "            return self.history[self.i]\n",
    "\n",
    "    def prev(self):\n",
    "        if self.i == 0:\n",
    "            self.i = len(self.history)-1\n",
    "            return self.history[self.i]\n",
    "        else:\n",
    "            self.i -= 1\n",
    "            return self.history[self.i]\n",
    "        \n",
    "def get_sample_smiles_widget(output_widget,rxn_data):\n",
    "    \n",
    "    rxns = rxn_data['reaction_smiles'].tolist()\n",
    "    rxns_cycle = iter(rxns)\n",
    "    rxns_cycle = EnableBackwardIterator(rxns_cycle,rxns)\n",
    "    aris = rxn_data['ari'].tolist()\n",
    "    aris = [str(i) for i in aris]\n",
    "    aris_cycle = iter(aris)\n",
    "    aris_cycle = EnableBackwardIterator(aris_cycle,aris)\n",
    "    \n",
    "    rxn_rf_btn_nxt_widget = widgets.Button(\n",
    "        description='Next',\n",
    "        disabled=False,\n",
    "        button_style='primary',\n",
    "        tooltip='Submit',\n",
    "        icon='fa-arrow-right'\n",
    "    )\n",
    "    \n",
    "    rxn_rf_btn_prv_widget = widgets.Button(\n",
    "        description='Previous',\n",
    "        disabled=False,\n",
    "        button_style='primary',\n",
    "        tooltip='Submit',\n",
    "        icon='fa-arrow-left'\n",
    "    )\n",
    "    \n",
    "    visualize_random_rxn(rxns[0], output_widget,aris[0])\n",
    "    rxn_rf_btn_nxt_widget.on_click(lambda x: visualize_random_rxn(rxns_cycle.next(), output_widget,aris_cycle.next()))\n",
    "    rxn_rf_btn_prv_widget.on_click(lambda x: visualize_random_rxn(rxns_cycle.prev(), output_widget,aris_cycle.prev()))\n",
    "    \n",
    "    box_layout = widgets.Layout(display='flex-flow',\n",
    "                flex_flow='row',\n",
    "                align_items='stretch',\n",
    "                )\n",
    "    return widgets.HBox([rxn_rf_btn_prv_widget,Label('',layout=Layout(flex='3 1 0%', width='auto')),rxn_rf_btn_nxt_widget],layout=box_layout)"
   ]
  },
  {
   "cell_type": "code",
   "execution_count": 30,
   "metadata": {
    "scrolled": false
   },
   "outputs": [
    {
     "ename": "NameError",
     "evalue": "name 'change' is not defined",
     "output_type": "error",
     "traceback": [
      "\u001b[0;31m---------------------------------------------------------------------------\u001b[0m",
      "\u001b[0;31mNameError\u001b[0m                                 Traceback (most recent call last)",
      "\u001b[0;32m<ipython-input-30-caca52fbeef1>\u001b[0m in \u001b[0;36m<module>\u001b[0;34m\u001b[0m\n\u001b[1;32m      1\u001b[0m \u001b[0mdate_folders\u001b[0m \u001b[0;34m=\u001b[0m \u001b[0mos\u001b[0m\u001b[0;34m.\u001b[0m\u001b[0mlistdir\u001b[0m\u001b[0;34m(\u001b[0m\u001b[0;34m\"/home/jupyter/data/demo_date_wise/\"\u001b[0m\u001b[0;34m)\u001b[0m\u001b[0;34m\u001b[0m\u001b[0;34m\u001b[0m\u001b[0m\n\u001b[0;32m----> 2\u001b[0;31m \u001b[0mfilepath\u001b[0m \u001b[0;34m=\u001b[0m \u001b[0;34m'/home/jupyter/data/demo_date_wise/'\u001b[0m \u001b[0;34m+\u001b[0m \u001b[0mchange\u001b[0m\u001b[0;34m.\u001b[0m\u001b[0mnew\u001b[0m\u001b[0;34m\u001b[0m\u001b[0;34m\u001b[0m\u001b[0m\n\u001b[0m\u001b[1;32m      3\u001b[0m \u001b[0mfilenames\u001b[0m \u001b[0;34m=\u001b[0m \u001b[0mos\u001b[0m\u001b[0;34m.\u001b[0m\u001b[0mlistdir\u001b[0m\u001b[0;34m(\u001b[0m\u001b[0;34m'/home/jupyter/data/demo_date_wise/'\u001b[0m \u001b[0;34m+\u001b[0m \u001b[0mchange\u001b[0m\u001b[0;34m.\u001b[0m\u001b[0mnew\u001b[0m\u001b[0;34m)\u001b[0m\u001b[0;34m\u001b[0m\u001b[0;34m\u001b[0m\u001b[0m\n\u001b[1;32m      4\u001b[0m \u001b[0mimages\u001b[0m \u001b[0;34m=\u001b[0m \u001b[0mos\u001b[0m\u001b[0;34m.\u001b[0m\u001b[0mlistdir\u001b[0m\u001b[0;34m(\u001b[0m\u001b[0;34m\"/home/jupyter/data/demo_date_wise/\"\u001b[0m \u001b[0;34m+\u001b[0m \u001b[0mchange\u001b[0m\u001b[0;34m.\u001b[0m\u001b[0mnew\u001b[0m\u001b[0;34m)\u001b[0m\u001b[0;34m\u001b[0m\u001b[0;34m\u001b[0m\u001b[0m\n\u001b[1;32m      5\u001b[0m w = widgets.Dropdown(\n",
      "\u001b[0;31mNameError\u001b[0m: name 'change' is not defined"
     ]
    }
   ],
   "source": [
    "date_folders = os.listdir(\"/home/jupyter/data/demo_date_wise/\")\n",
    "filepaths = glob.glob('/home/jupyter/data/demo_date_wise/*.jpg')\n",
    "# filepaths = os. '/home/jupyter/data/demo_date_wise/' + change.new\n",
    "# filenames = os.listdir('/home/jupyter/data/demo_date_wise/' + change.new)\n",
    "# images = os.listdir(\"/home/jupyter/data/demo_date_wise/\" + change.new)\n",
    "w = widgets.Dropdown(\n",
    "    options=date_folders,\n",
    "    description='Date Selector:',\n",
    "    disabled=False,\n",
    "    style={'description_width':'initial'},\n",
    "    value=date_folders[0],\n",
    ")\n",
    "\n",
    "def on_change(change):\n",
    "    if change_fig['type']=='change' and change_fig['name']=='value':\n",
    "        w.clear_output()\n",
    "        with w:\n",
    "            img = Image(filename)\n",
    "\n",
    "# def on_change(change):\n",
    "#     with out:\n",
    "#         clear_output()\n",
    "#         for image in images:\n",
    "#             if image.endswith(\".jpg\"):\n",
    "#                 im = cv2.imread(\"/home/jupyter/data/demo_date_wise/\" + change.new + '/' + image, 0)\n",
    "#                 plt.figure(figsize=(15,15))\n",
    "#                 plt.imshow(im, cmap=\"gray\")\n",
    "#                 plt.xticks([])\n",
    "#                 plt.yticks([])\n",
    "\n",
    "w.observe(on_change, names='value')\n",
    "display(w)\n",
    "out = widgets.Output()\n",
    "\n",
    "with out:\n",
    "    img = Image(filename = table_image)\n",
    "    display(img)\n",
    "\n",
    "display(out)\n",
    "\n",
    "# display first image as default"
   ]
  },
  {
   "cell_type": "code",
   "execution_count": 32,
   "metadata": {},
   "outputs": [
    {
     "data": {
      "application/vnd.jupyter.widget-view+json": {
       "model_id": "1b76446b39374dfdb0dc76fdc6bf516e",
       "version_major": 2,
       "version_minor": 0
      },
      "text/plain": [
       "Dropdown(description='Ouput Selector:', layout=Layout(width='max-content'), options=('07.06.20', '14.08.20', '…"
      ]
     },
     "metadata": {},
     "output_type": "display_data"
    },
    {
     "data": {
      "application/vnd.jupyter.widget-view+json": {
       "model_id": "dce23f816b334d4e804b2c63852e6741",
       "version_major": 2,
       "version_minor": 0
      },
      "text/plain": [
       "Output()"
      ]
     },
     "metadata": {},
     "output_type": "display_data"
    }
   ],
   "source": [
    "date_folders = os.listdir(\"/home/jupyter/data/demo_date_wise/\")\n",
    "w = widgets.Dropdown(\n",
    "    options=date_folders,\n",
    "    description='Ouput Selector:',\n",
    "    disabled=False,\n",
    "    layout={'width': 'max-content'},\n",
    "    style={'description_width':'initial'}\n",
    ")\n",
    "\n",
    "def on_change(change):\n",
    "    with out:\n",
    "        clear_output()\n",
    "        filepath = '/home/jupyter/data/demo_date_wise/' + change.new\n",
    "        filenames = os.listdir('/home/jupyter/data/demo_date_wise/' + change.new)\n",
    "        for filename in filenames:\n",
    "            if filename.endswith(\".html\"):\n",
    "                print(os.path.join(filepath,filename))\n",
    "                # controller.main(filepath=os.path.join(filepath,filename))\n",
    "                file, extracted_params, temp = controller.main(filepath=os.path.join(filepath,filename))\n",
    "                store_path = '/home/jupyter/data/demo_date_wise_output/' + change.new\n",
    "                controller.extract_data(file,temp,extracted_params,store_path)\n",
    "        csv_data = find(\"*.csv\", '/home/jupyter/data/demo_date_wise_output/' + change.new)\n",
    "        for csv in csv_data:\n",
    "            df = pd.read_csv(csv)\n",
    "            display(df.head(10))\n",
    "w.observe(on_change, names='value')\n",
    "display(w)\n",
    "out = widgets.Output()\n",
    "display(out)\n"
   ]
  },
  {
   "cell_type": "code",
   "execution_count": null,
   "metadata": {},
   "outputs": [],
   "source": []
  }
 ],
 "metadata": {
  "kernelspec": {
   "display_name": "Python 3",
   "language": "python",
   "name": "python3"
  },
  "language_info": {
   "codemirror_mode": {
    "name": "ipython",
    "version": 3
   },
   "file_extension": ".py",
   "mimetype": "text/x-python",
   "name": "python",
   "nbconvert_exporter": "python",
   "pygments_lexer": "ipython3",
   "version": "3.7.4"
  }
 },
 "nbformat": 4,
 "nbformat_minor": 2
}
