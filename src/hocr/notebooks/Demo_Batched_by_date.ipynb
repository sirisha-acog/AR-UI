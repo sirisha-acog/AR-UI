{
 "cells": [
  {
   "cell_type": "code",
   "execution_count": null,
   "metadata": {},
   "outputs": [],
   "source": [
    "%%html\n",
    "<style>\n",
    ".output_png {\n",
    "    display: table-cell;\n",
    "    text-align: center;\n",
    "    vertical-align: middle;\n",
    "}\n",
    "\n",
    "</style>"
   ]
  },
  {
   "cell_type": "code",
   "execution_count": null,
   "metadata": {},
   "outputs": [],
   "source": [
    "# Imports\n",
    "import ipywidgets as widgets\n",
    "from IPython.display import Javascript, display\n",
    "import os\n",
    "import matplotlib.pyplot as plt\n",
    "import cv2\n",
    "import aganitha_hocr\n",
    "from aganitha_hocr import controller\n",
    "import pandas as pd\n",
    "from IPython.display import display"
   ]
  },
  {
   "cell_type": "code",
   "execution_count": null,
   "metadata": {},
   "outputs": [],
   "source": [
    "import os, fnmatch\n",
    "def find(pattern, path):\n",
    "    result = []\n",
    "    for root, dirs, files in os.walk(path):\n",
    "        for name in files:\n",
    "            if fnmatch.fnmatch(name, pattern):\n",
    "                result.append(os.path.join(root, name))\n",
    "    return result"
   ]
  },
  {
   "cell_type": "code",
   "execution_count": null,
   "metadata": {
    "scrolled": false
   },
   "outputs": [],
   "source": [
    "from IPython.display import clear_output\n",
    "date_folders = os.listdir(\"/home/jupyter/data/demo_date_wise/\")\n",
    "w = widgets.Dropdown(\n",
    "    options=date_folders,\n",
    "    description='Date Selector:',\n",
    "    disabled=False,\n",
    ")\n",
    "\n",
    "def on_change(change):\n",
    "    filepath = '/home/jupyter/data/demo_date_wise/' + change.new\n",
    "    filenames = os.listdir('/home/jupyter/data/demo_date_wise/' + change.new)\n",
    "    images = os.listdir(\"/home/jupyter/data/demo_date_wise/\" + change.new)\n",
    "    for image in images:\n",
    "        if image.endswith(\".jpg\"):\n",
    "            im = cv2.imread(\"/home/jupyter/data/demo_date_wise/\" + change.new + '/' + image, 0)\n",
    "            plt.figure(figsize=(30,30))\n",
    "            plt.imshow(im, cmap=\"gray\")\n",
    "            plt.xticks([])\n",
    "            plt.yticks([])\n",
    "    clear_output\n",
    "w.observe(on_change, names='value')\n",
    "display(w)"
   ]
  },
  {
   "cell_type": "code",
   "execution_count": null,
   "metadata": {},
   "outputs": [],
   "source": [
    "from IPython.display import clear_output\n",
    "date_folders = os.listdir(\"/home/jupyter/data/demo_date_wise/\")\n",
    "w = widgets.Dropdown(\n",
    "    options=date_folders,\n",
    "    description='Ouput Selector:',\n",
    "    disabled=False,\n",
    "    layout={'width': 'max-content'},\n",
    "    style={'description_width':'initial'}\n",
    ")\n",
    "\n",
    "def on_change(change):\n",
    "    with out:\n",
    "        clear_output()\n",
    "        filepath = '/home/jupyter/data/demo_date_wise/' + change.new\n",
    "        filenames = os.listdir('/home/jupyter/data/demo_date_wise/' + change.new)\n",
    "        for filename in filenames:\n",
    "            if filename.endswith(\".html\"):\n",
    "                print(os.path.join(filepath,filename))\n",
    "                # controller.main(filepath=os.path.join(filepath,filename))\n",
    "                file, extracted_params, temp = controller.main(filepath=os.path.join(filepath,filename))\n",
    "                store_path = '/home/jupyter/data/demo_date_wise_output/' + change.new\n",
    "                controller.extract_data(file,temp,extracted_params,store_path)\n",
    "        csv_data = find(\"*.csv\", '/home/jupyter/data/demo_date_wise_output/' + change.new)\n",
    "        for csv in csv_data:\n",
    "            df = pd.read_csv(csv)\n",
    "            display(df.head(10))\n",
    "w.observe(on_change, names='value')\n",
    "display(w)\n",
    "out = widgets.Output()\n",
    "display(out)\n"
   ]
  }
 ],
 "metadata": {
  "kernelspec": {
   "display_name": "Python 3",
   "language": "python",
   "name": "python3"
  },
  "language_info": {
   "codemirror_mode": {
    "name": "ipython",
    "version": 3
   },
   "file_extension": ".py",
   "mimetype": "text/x-python",
   "name": "python",
   "nbconvert_exporter": "python",
   "pygments_lexer": "ipython3",
   "version": "3.7.4"
  }
 },
 "nbformat": 4,
 "nbformat_minor": 2
}
