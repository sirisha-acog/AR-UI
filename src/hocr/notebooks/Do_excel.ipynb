{
 "cells": [
  {
   "cell_type": "code",
   "execution_count": null,
   "metadata": {},
   "outputs": [],
   "source": [
    "%%html\n",
    "<style>\n",
    ".output_png {\n",
    "    text-align:center;\n",
    "    display:table-cell;\n",
    "    vertical-align:middle;\n",
    "}\n",
    "table.dataframe td, table.dataframe th {\n",
    "    border: 1px  black solid !important;\n",
    "    color: black !important;\n",
    "    margin-left: auto;\n",
    "    margin-right: auto;\n",
    "}\n",
    "div.output_area .rendered_html table{\n",
    "    margin-left: auto;\n",
    "    margin-right: auto;\n",
    "}\n",
    "</style>"
   ]
  },
  {
   "cell_type": "code",
   "execution_count": null,
   "metadata": {},
   "outputs": [],
   "source": [
    "# Imports\n",
    "import ipywidgets as widgets\n",
    "from IPython.display import Javascript, display\n",
    "import os\n",
    "import matplotlib.pyplot as plt\n",
    "import cv2\n",
    "import aganitha_hocr\n",
    "from aganitha_hocr import controller\n",
    "import pandas as pd\n",
    "from IPython.display import display\n",
    "from IPython.display import Image\n",
    "from IPython.display import clear_output\n",
    "from ipywidgets import Button, HBox, VBox\n",
    "from IPython.display import clear_output, FileLink, FileLinks\n"
   ]
  },
  {
   "cell_type": "markdown",
   "metadata": {},
   "source": [
    "## Introduction\n",
    "---\n"
   ]
  },
  {
   "cell_type": "markdown",
   "metadata": {},
   "source": [
    "This demo takes in files like remittance advices, cash cheques and envelopes and extracts transactions from remittance advices. Finally the data is dumped into disk or pushed into a database."
   ]
  },
  {
   "cell_type": "markdown",
   "metadata": {},
   "source": [
    "## Process Workflow\n",
    "---"
   ]
  },
  {
   "cell_type": "markdown",
   "metadata": {},
   "source": [
    "<div style=\"text-align:center\"><img src=\"./AR-Automation-process-flow.png\" alt=\"WorkFlow\"></div>\n",
    "<div style=\"text-align:center\"><em>AR-Automation-process-flow</em></div>"
   ]
  },
  {
   "cell_type": "code",
   "execution_count": null,
   "metadata": {},
   "outputs": [],
   "source": [
    "import os, fnmatch\n",
    "def find(pattern, path):\n",
    "    result = []\n",
    "    for root, dirs, files in os.walk(path):\n",
    "        for name in files:\n",
    "            if fnmatch.fnmatch(name, pattern):\n",
    "                result.append(os.path.join(root, name))\n",
    "    return result\n",
    "\n",
    "def run_all(ev):\n",
    "    display(Javascript('IPython.notebook.execute_cell_range(IPython.notebook.get_selected_index()+1, IPython.notebook.get_selected_index()+2)'))\n",
    "    "
   ]
  },
  {
   "cell_type": "code",
   "execution_count": null,
   "metadata": {},
   "outputs": [],
   "source": [
    "date_folders = os.listdir(\"/Users/adarsh/work/ar-automation/new_data/date-wise-data-complete/\")\n",
    "dd_date = widgets.Dropdown(\n",
    "    options=date_folders,\n",
    "    description='Select Date:',\n",
    "    disabled=False,\n",
    "    layout=widgets.Layout(align_items='center',width='350px'),\n",
    "    style={'description_width':'initial'}\n",
    ")\n",
    "cust_names = ['OMG', 'IPG', 'MMS', 'GroupM', 'Squared', 'Katz']\n",
    "\n",
    "filepath = '/Users/adarsh/work/ar-automation/new_data/date-wise-data-complete/'\n",
    "count = 0\n",
    "for date in date_folders:\n",
    "    filenames = os.listdir(os.path.join(filepath, date))\n",
    "    for filename in filenames:\n",
    "        if filename.endswith(\".html\"):\n",
    "            try:\n",
    "                # print(\"Path\", os.path.join(filepath,date,filename))\n",
    "                file, extracted_params, temp, image = controller.main(filepath=os.path.join(filepath,date,filename))\n",
    "                store_path = '/Users/adarsh/work/ar-automation/test3'\n",
    "                controller.extract_data(file, temp, extracted_params, store_path, image)\n",
    "            except TypeError:\n",
    "                count = count+1\n",
    "# print(count)\n",
    "            "
   ]
  },
  {
   "cell_type": "code",
   "execution_count": null,
   "metadata": {},
   "outputs": [],
   "source": [
    "## Download Merged  Spreadsheet"
   ]
  },
  {
   "cell_type": "code",
   "execution_count": null,
   "metadata": {},
   "outputs": [],
   "source": [
    "def find_dir(pattern, path):\n",
    "    result = []\n",
    "    for root, dirs, files in os.walk(path):\n",
    "        for name in dirs:\n",
    "            if fnmatch.fnmatch(name, pattern):\n",
    "                result.append(os.path.join(root, name))\n",
    "    return result\n",
    "\n",
    "cust_names = ['OMG', 'IPG', 'MMS', 'GroupM', '22Squared', 'Katz']\n",
    "for name in cust_names:\n",
    "    dir_paths = find_dir(name,'/Users/adarsh/work/ar-automation/test3/')\n",
    "    dir_paths = [path for path in dir_paths if 'csv' in path]\n",
    "    print(dir_paths)\n",
    "    print(\"CSV PATHS FOR \", name)\n",
    "    path_list = []\n",
    "    for path in dir_paths:\n",
    "        name_of_csvs = os.listdir(path)\n",
    "        path_list = path_list + [os.path.join(path,csv) for csv in name_of_csvs if csv.endswith(\".csv\")]\n",
    "        combined_csv = pd.concat([pd.read_csv(os.path.join(path,csv)) for csv in name_of_csvs if csv.endswith(\".csv\")], ignore_index=True)\n",
    "        combined_csv.to_csv(name + '.csv', index=False)\n",
    "\n",
    "    combined_csv = pd.concat([pd.read_csv(path) for path in path_list])\n",
    "    print(\"Combined --> Start\")\n",
    "    combined_csv.to_csv(name + '.csv', index=False)\n",
    "    display(combined_csv)\n",
    "    print(\"Combined --> End\")"
   ]
  },
  {
   "cell_type": "code",
   "execution_count": null,
   "metadata": {},
   "outputs": [],
   "source": [
    "import pyexcel as p\n",
    "from pyexcel_io import get_data\n",
    "from pyexcel.cookbook import merge_all_to_a_book\n",
    "import glob\n"
   ]
  },
  {
   "cell_type": "code",
   "execution_count": null,
   "metadata": {},
   "outputs": [],
   "source": []
  },
  {
   "cell_type": "code",
   "execution_count": null,
   "metadata": {},
   "outputs": [],
   "source": [
    "merge_all_to_a_book(glob.glob(\"*.csv\"), \"output.xlsx\")"
   ]
  },
  {
   "cell_type": "code",
   "execution_count": null,
   "metadata": {
    "scrolled": false
   },
   "outputs": [],
   "source": [
    "headers = [\"Deposit Date\",\"CMG Account Number\", \"Lockbox Number\", \"Payor\", \"Advertiser\", \n",
    "           \"Payor Account Number\", \"Payor Check Number\",  \"Check Amount\", \"Remittance Line Number\",\n",
    "           \"Gross Amount\", \"Discount/Adj.\", \"Net Amount Paid\", \"Status\",\n",
    "           \"Path to Image\",\n",
    "          ]\n",
    "df = pd.DataFrame(index=range(1000), columns=headers)"
   ]
  },
  {
   "cell_type": "code",
   "execution_count": null,
   "metadata": {},
   "outputs": [],
   "source": [
    "df.head()\n"
   ]
  },
  {
   "cell_type": "code",
   "execution_count": null,
   "metadata": {},
   "outputs": [],
   "source": [
    "filenames = ['MMS.csv', 'IPG.csv', '22Squared.csv', 'GroupM.csv', 'OMG.csv']\n",
    "df.head()"
   ]
  },
  {
   "cell_type": "code",
   "execution_count": null,
   "metadata": {},
   "outputs": [],
   "source": [
    "MMS = pd.read_csv('MMS.csv')\n",
    "IPG = pd.read_csv('IPG.csv')\n",
    "Squared = pd.read_csv('22Squared.csv')\n",
    "GroupM = pd.read_csv('GroupM.csv')\n",
    "OMG = pd.read_csv('OMG.csv')\n",
    "Katz = pd.read_csv('Katz.csv')\n",
    "\n",
    "MMS[\"Null Col\"] = ''\n",
    "IPG[\"Null Col\"] = ''\n",
    "Squared[\"Null Col\"] = ''\n",
    "GroupM[\"Null Col\"] = ''\n",
    "OMG[\"Null Col\"] = ''\n",
    "Katz[\"Null Col\"] = ''"
   ]
  },
  {
   "cell_type": "code",
   "execution_count": null,
   "metadata": {},
   "outputs": [],
   "source": [
    "!ls"
   ]
  },
  {
   "cell_type": "code",
   "execution_count": null,
   "metadata": {},
   "outputs": [],
   "source": [
    "date_series = pd.concat([MMS['DATE'],IPG['Date'], OMG['Date'], Squared['Date'], GroupM['Check date'], Katz['Check Date']], axis=0, ignore_index=True)\n",
    "check_number_series = pd.concat([MMS['CHECK NUMBER'],IPG['Check Number'], OMG['Check Number'], Squared['Check Number'], GroupM['Check number'], Katz['Check Number']], axis=0,ignore_index=True)\n",
    "invoice_date_series = pd.concat([MMS['Invoice Date'],IPG['Invoice Date'], OMG['Invoice Date'], Squared['Invoice Date'], GroupM['Null Col'], Katz['Null Col']], axis=0, ignore_index=True)\n",
    "invoice_number_series = pd.concat([MMS['Invoice Number'],IPG['Invoice Number'], OMG['Invoice Number'], Squared['Invoice Number'], GroupM['Invoice number'], Katz['Stn-Invoice']], axis=0, ignore_index=True)\n",
    "amount_series = pd.concat([MMS['Amount'],IPG['Net Amount'], OMG['Net Amount'], Squared['Net Less Discount'], GroupM['Net Amount'], Katz['Paid Amount']], axis=0, ignore_index=True)\n",
    "cust_series = pd.concat([MMS['Customer'],IPG['Customer'], OMG['Customer'], Squared['Customer'], GroupM['Customer'], Katz['Customer']], axis=0, ignore_index=True)\n",
    "path_series = pd.concat([MMS['Path to Image'],IPG['Path to Image'], OMG['Path to Image'], Squared['Path to Image'], GroupM['Path to Image'], Katz['Path to Image']], axis=0, ignore_index=True)\n",
    "lockbox_series = pd.concat([MMS['LockBox'],IPG['LockBox'], OMG['LockBox'], Squared['LockBox'], GroupM['LockBox'], Katz['LockBox']], axis=0, ignore_index=True)\n",
    "remittance_line_number_series = pd.concat([MMS['Remittance Line Number'],IPG['Remittance Line Number'], OMG['Remittance Line Number'], Squared['Remittance Line Number'], GroupM['Remittance Line Number'], Katz['Remittance Line Number']], axis=0, ignore_index=True)\n",
    "check_amount_series = pd.concat([MMS['AMOUNT PAID'],IPG['Check Total'], OMG['Check Amount'], Squared['Net Less Discount Total'], GroupM['Check amount'], Katz['Total']], axis=0, ignore_index=True)\n",
    "gross_amount_series = pd.concat([MMS['Null Col'],IPG['Null Col'], OMG['Gross Amount'], Squared['Gross Amount'], GroupM['Total amount'], Katz['Null Col']], axis=0, ignore_index=True)\n",
    "discount_amount_series = pd.concat([MMS['Null Col'],IPG['Null Col'], OMG['Null Col'], Squared['Discount'], GroupM['Null Col'], Katz['Null Col']], axis=0, ignore_index=True)\n",
    "period_series = pd.concat([MMS['Null Col'],IPG['Null Col'], OMG['Null Col'], Squared['Null Col'], GroupM['Period'], Katz['Null Col']], axis=0, ignore_index=True)\n"
   ]
  },
  {
   "cell_type": "code",
   "execution_count": null,
   "metadata": {},
   "outputs": [],
   "source": []
  },
  {
   "cell_type": "code",
   "execution_count": null,
   "metadata": {},
   "outputs": [],
   "source": [
    "date_series = date_series.to_frame().reset_index()\n",
    "check_number_series = check_number_series.to_frame().reset_index()\n",
    "invoice_date_series = invoice_date_series.to_frame().reset_index()\n",
    "invoice_number_series = invoice_number_series.to_frame().reset_index()\n",
    "amount_series = amount_series.to_frame().reset_index()\n",
    "remittance_line_number_series = remittance_line_number_series.to_frame()\n",
    "cust_series = cust_series.to_frame()\n",
    "path_series = path_series.to_frame()\n",
    "lockbox_series = lockbox_series.to_frame()\n",
    "check_amount_series = check_amount_series.to_frame().reset_index()\n",
    "gross_amount_series = gross_amount_series.to_frame().reset_index()\n",
    "discount_amount_series = discount_amount_series.to_frame().reset_index()\n",
    "period_series = period_series.to_frame().reset_index()"
   ]
  },
  {
   "cell_type": "code",
   "execution_count": null,
   "metadata": {},
   "outputs": [],
   "source": [
    "cust_series"
   ]
  },
  {
   "cell_type": "code",
   "execution_count": null,
   "metadata": {},
   "outputs": [],
   "source": [
    "check_number_series[0] = check_number_series[0].astype(str)\n",
    "print(check_number_series[0])"
   ]
  },
  {
   "cell_type": "code",
   "execution_count": null,
   "metadata": {},
   "outputs": [],
   "source": [
    "df['date'] = date_series[0]"
   ]
  },
  {
   "cell_type": "code",
   "execution_count": null,
   "metadata": {},
   "outputs": [],
   "source": [
    "print(df)"
   ]
  },
  {
   "cell_type": "code",
   "execution_count": null,
   "metadata": {},
   "outputs": [],
   "source": [
    "df['Deposit Date'] = date_series[0]\n",
    "df['Payor Check Number'] = check_number_series[0]\n",
    "df['Invoice Date'] = invoice_date_series[0]\n",
    "df['Invoice Number'] = invoice_number_series[0]\n",
    "df['Period'] = period_series[0]\n",
    "df['Net Amount Paid'] = amount_series[0]\n",
    "df['Lockbox Number'] = lockbox_series\n",
    "df['Payor'] = cust_series\n",
    "df['Status'] = '1'\n",
    "df[\"Remittance Line Number\"] = remittance_line_number_series\n",
    "df[\"Check Amount\"] = check_amount_series[0]\n",
    "df[\"Gross Amount\"] = gross_amount_series[0]\n",
    "df[\"Discount/Adj.\"] = discount_amount_series[0]\n",
    "df['Path to Image'] = path_series\n",
    "df[\"CMG Account Number\"] = ''\n",
    "df[\"Advertiser\"] = ''\n",
    "df[\"Payor Account Number\"] = ''"
   ]
  },
  {
   "cell_type": "code",
   "execution_count": null,
   "metadata": {},
   "outputs": [],
   "source": [
    "df2 = df[0:1122]"
   ]
  },
  {
   "cell_type": "code",
   "execution_count": null,
   "metadata": {},
   "outputs": [],
   "source": [
    "for i in range(0,len(df2)):\n",
    "    print(df2['Path to Image'][i])\n",
    "    df2['Path to Image'][i] = df2['Path to Image'][i].replace('/Users/adarsh/work/ar-automation/new_data/date-wise-data-complete', '/data/date-wise-data-complete')"
   ]
  },
  {
   "cell_type": "code",
   "execution_count": null,
   "metadata": {},
   "outputs": [],
   "source": [
    "df2[\"Check Amount\"] = df2[\"Check Amount\"].astype(str)\n",
    "df2[\"Gross Amount\"] = df2[\"Gross Amount\"].astype(str)\n",
    "df2[\"Net Amount Paid\"] = df2[\"Net Amount Paid\"].astype(str)\n",
    "df2[\"Lockbox Number\"] = df2[\"Lockbox Number\"].astype(str)\n",
    "df['Payor Check Number'] = df['Payor Check Number'].astype(str)"
   ]
  },
  {
   "cell_type": "code",
   "execution_count": null,
   "metadata": {},
   "outputs": [],
   "source": [
    "for i in range(0,len(df2)):\n",
    "    if '-' in df2[\"Check Amount\"][i]:\n",
    "        print(\"Okay\")\n",
    "        df2[\"Check Amount\"][i] = df2[\"Check Amount\"][i].replace(\"-\", \"\")\n",
    "        \n",
    "for i in range(0,len(df2)):\n",
    "    if '-' in df2[\"Gross Amount\"][i]:\n",
    "        print(\"Okay\")\n",
    "        df2[\"Gross Amount\"][i] = df2[\"Gross Amount\"][i].replace(\"-\", \"\")\n",
    "        \n",
    "for i in range(0,len(df2)):\n",
    "    if '-' in df2[\"Net Amount Paid\"][i]:\n",
    "        print(\"Okay\")\n",
    "        df2[\"Net Amount Paid\"][i] = df2[\"Net Amount Paid\"][i].replace(\"-\", \"\")\n",
    "\n",
    "for i in range(0,len(df2)):\n",
    "    if '.0' in df2[\"Lockbox Number\"][i]:\n",
    "        print(\"Okay\")\n",
    "        df2[\"Lockbox Number\"][i] = df2[\"Lockbox Number\"][i].replace(\".0\", \"\")"
   ]
  },
  {
   "cell_type": "code",
   "execution_count": null,
   "metadata": {},
   "outputs": [],
   "source": [
    "df2.tail(20)"
   ]
  },
  {
   "cell_type": "code",
   "execution_count": null,
   "metadata": {},
   "outputs": [],
   "source": [
    "df2[\"Net Amount Paid\"] = df2[\"Net Amount Paid\"].astype(float)\n",
    "df_sum = df2.groupby([\"Path to Image\"], as_index = False).agg({\"Net Amount Paid\": ['sum']})"
   ]
  },
  {
   "cell_type": "code",
   "execution_count": null,
   "metadata": {},
   "outputs": [],
   "source": [
    "pd.set_option('display.max_rows', None)\n",
    "pd.set_option('display.max_columns', None)\n",
    "pd.set_option('display.width', None)\n",
    "pd.set_option('display.max_colwidth', -1)"
   ]
  },
  {
   "cell_type": "code",
   "execution_count": null,
   "metadata": {},
   "outputs": [],
   "source": [
    "display(df2[df2[\"Path to Image\"] == '/data/date-wise-data-complete/09.30.20/09.30.20-lb809036-1-7-addl-doc-01.jpg'])"
   ]
  },
  {
   "cell_type": "code",
   "execution_count": null,
   "metadata": {},
   "outputs": [],
   "source": [
    "count = 0\n",
    "count_true = 0\n",
    "count_false = 0\n",
    "for i in range(0,len(df2)):\n",
    "    try:\n",
    "        interim = df_sum.loc[df_sum[\"Path to Image\"] == df2[\"Path to Image\"][i]]\n",
    "        # \n",
    "        if round(interim[\"Net Amount Paid\"][\"sum\"].item(), 2) == round(float(df2[\"Check Amount\"][i]), 2):\n",
    "            df2[\"Status\"][i] = 1\n",
    "            count_true = count_true + 1\n",
    "        else:\n",
    "            df2[\"Status\"][i] = 0\n",
    "            count_false = count_false + 1\n",
    "            print(round(interim[\"Net Amount Paid\"][\"sum\"].item(), 2), \" \", float(df2[\"Check Amount\"][i]), df2[\"Path to Image\"][i])\n",
    "    except ValueError:\n",
    "        count = count+1\n",
    "        df2[\"Status\"][i] = 2\n",
    "print(count_true)\n",
    "print(count_false)\n",
    "print(count)"
   ]
  },
  {
   "cell_type": "code",
   "execution_count": null,
   "metadata": {},
   "outputs": [],
   "source": [
    "pd.options.display.max_columns = 999"
   ]
  },
  {
   "cell_type": "code",
   "execution_count": null,
   "metadata": {},
   "outputs": [],
   "source": []
  },
  {
   "cell_type": "code",
   "execution_count": null,
   "metadata": {},
   "outputs": [],
   "source": [
    "df2.to_csv(\"Combined_data_ver5.csv\", index=False)"
   ]
  },
  {
   "cell_type": "code",
   "execution_count": null,
   "metadata": {},
   "outputs": [],
   "source": [
    "display(df2.head(100))"
   ]
  },
  {
   "cell_type": "code",
   "execution_count": null,
   "metadata": {},
   "outputs": [],
   "source": [
    "df_sum = df2.groupby([\"Path to Image\"], as_index = False).agg({\"Status\": ['count']})"
   ]
  },
  {
   "cell_type": "code",
   "execution_count": null,
   "metadata": {},
   "outputs": [],
   "source": [
    "df_sum"
   ]
  }
 ],
 "metadata": {
  "kernelspec": {
   "display_name": "Python 3",
   "language": "python",
   "name": "python3"
  },
  "language_info": {
   "codemirror_mode": {
    "name": "ipython",
    "version": 3
   },
   "file_extension": ".py",
   "mimetype": "text/x-python",
   "name": "python",
   "nbconvert_exporter": "python",
   "pygments_lexer": "ipython3",
   "version": "3.7.9"
  }
 },
 "nbformat": 4,
 "nbformat_minor": 2
}
