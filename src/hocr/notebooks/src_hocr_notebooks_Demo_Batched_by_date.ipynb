{
 "cells": [
  {
   "cell_type": "code",
   "execution_count": null,
   "metadata": {},
   "outputs": [],
   "source": [
    "%%html\n",
    "<style>\n",
    ".output_png {\n",
    "    text-align:center;\n",
    "    display:table-cell;\n",
    "    vertical-align:middle;\n",
    "}\n",
    "table.dataframe td, table.dataframe th {\n",
    "    border: 1px  black solid !important;\n",
    "    color: black !important;\n",
    "    margin-left: auto;\n",
    "    margin-right: auto;\n",
    "}\n",
    "div.output_area .rendered_html table{\n",
    "    margin-left: auto;\n",
    "    margin-right: auto;\n",
    "}\n",
    "</style>"
   ]
  },
  {
   "cell_type": "code",
   "execution_count": null,
   "metadata": {},
   "outputs": [],
   "source": [
    "# Imports\n",
    "import ipywidgets as widgets\n",
    "from IPython.display import Javascript, display\n",
    "import os\n",
    "import matplotlib.pyplot as plt\n",
    "import cv2\n",
    "import aganitha_hocr\n",
    "from aganitha_hocr import controller\n",
    "import pandas as pd\n",
    "from IPython.display import display\n",
    "from IPython.display import Image\n",
    "from IPython.display import clear_output\n",
    "from ipywidgets import Button, HBox, VBox\n",
    "from IPython.display import clear_output, FileLink, FileLinks\n"
   ]
  },
  {
   "cell_type": "markdown",
   "metadata": {},
   "source": [
    "## Introduction\n",
    "---\n"
   ]
  },
  {
   "cell_type": "markdown",
   "metadata": {},
   "source": [
    "This demo takes in files like remittance advices, cash cheques and envelopes and extracts transactions from remittance advices. Finally the data is dumped into disk or pushed into a database."
   ]
  },
  {
   "cell_type": "markdown",
   "metadata": {},
   "source": [
    "## Process Workflow\n",
    "---"
   ]
  },
  {
   "cell_type": "markdown",
   "metadata": {},
   "source": [
    "<div style=\"text-align:center\"><img src=\"./AR-Automation-process-flow.png\" alt=\"WorkFlow\"></div>\n",
    "<div style=\"text-align:center\"><em>AR-Automation-process-flow</em></div>"
   ]
  },
  {
   "cell_type": "code",
   "execution_count": null,
   "metadata": {},
   "outputs": [],
   "source": [
    "import os, fnmatch\n",
    "def find(pattern, path):\n",
    "    result = []\n",
    "    for root, dirs, files in os.walk(path):\n",
    "        for name in files:\n",
    "            if fnmatch.fnmatch(name, pattern):\n",
    "                result.append(os.path.join(root, name))\n",
    "    return result\n",
    "\n",
    "def run_all(ev):\n",
    "    display(Javascript('IPython.notebook.execute_cell_range(IPython.notebook.get_selected_index()+1, IPython.notebook.get_selected_index()+2)'))\n",
    "    "
   ]
  },
  {
   "cell_type": "code",
   "execution_count": null,
   "metadata": {},
   "outputs": [],
   "source": [
    "# def run_k(ev):\n",
    "#     print('Do Something!')\n",
    "# state = ['Single File', 'Batched Input']\n",
    "# items = [widgets.Button(description=w,disabled=False,\n",
    "#     button_style='primary') for w in state]\n",
    "# items[0].on_click(run_k)\n",
    "# items[1].on_click(run_k)\n",
    "# HBox([items[0], items[1]])"
   ]
  },
  {
   "cell_type": "code",
   "execution_count": null,
   "metadata": {},
   "outputs": [],
   "source": []
  },
  {
   "cell_type": "markdown",
   "metadata": {},
   "source": [
    "## Pick a Date\n",
    "---\n",
    "Pick a date to showcase all remittance advices for a given date."
   ]
  },
  {
   "cell_type": "code",
   "execution_count": null,
   "metadata": {
    "scrolled": false
   },
   "outputs": [],
   "source": [
    "date_dict = dict()\n",
    "data_dir = '/home/jupyter/data/demo_date_wise/'\n",
    "date_folders = os.listdir('/home/jupyter/data/demo_date_wise/')\n",
    "for folder_name in date_folders:\n",
    "    list_of_images = os.listdir(os.path.join(data_dir,folder_name))\n",
    "    list_of_images = [image for image in list_of_images if image.endswith(\".jpg\")]\n",
    "    key_dict = folder_name + ' | ' + ' Number of remittance advices--->' +str(len(list_of_images)) \n",
    "    date_dict[key_dict] = folder_name\n",
    "default_date = list(date_dict.keys())[0]\n",
    "# date_folders = os.listdir(\"/home/jupyter/data/demo_date_wise/\")\n",
    "w = widgets.Dropdown(\n",
    "    options=date_dict,\n",
    "    description='Date Selector:',\n",
    "    disabled=False,\n",
    "    layout=widgets.Layout(align_items='center',width='400px'),\n",
    "    style={'description_width':'initial'},\n",
    "    value=date_dict[default_date]\n",
    ")\n",
    "def on_change(change):\n",
    "    with out:\n",
    "        out.clear_output()\n",
    "        filepath = '/home/jupyter/data/demo_date_wise/' + change.new\n",
    "        filenames = os.listdir('/home/jupyter/data/demo_date_wise/' + change.new)\n",
    "        images = os.listdir(\"/home/jupyter/data/demo_date_wise/\" + change.new)\n",
    "        images = [image for image in images if image.endswith(\".jpg\")]\n",
    "\n",
    "w.observe(on_change, names='value')\n",
    "display(w)\n",
    "out = widgets.Output()\n",
    "display(out)"
   ]
  },
  {
   "cell_type": "markdown",
   "metadata": {},
   "source": [
    "Update the image list and use the dropdown menu below to select a image in the given folder."
   ]
  },
  {
   "cell_type": "code",
   "execution_count": null,
   "metadata": {},
   "outputs": [],
   "source": [
    "button = widgets.Button(description=\"Update image list\",\n",
    "    disabled=False,\n",
    "    button_style='primary',\n",
    "    tooltip='Submit',\n",
    "    )\n",
    "button.on_click(run_all)\n",
    "display(button)"
   ]
  },
  {
   "cell_type": "code",
   "execution_count": null,
   "metadata": {},
   "outputs": [],
   "source": [
    "date_value = w.value\n",
    "date_files = os.listdir(\"/home/jupyter/data/demo_date_wise/\" + date_value)\n",
    "date_files = [date_file for date_file in date_files if date_file.endswith(\".jpg\")]\n",
    "\n",
    "default_image = date_files[0]\n",
    "\n",
    "dropdown_image_names = widgets.Dropdown(\n",
    "    options=date_files,\n",
    "    description='Select An Image To View:',\n",
    "    disabled=False,\n",
    "    layout=widgets.Layout(align_items='center',width='450px'),\n",
    "    style={'description_width':'initial'},\n",
    "    value=default_image\n",
    ")\n",
    "\n",
    "\n",
    "def on_change_image(change):\n",
    "    if change['type']=='change' and change['name']=='value':\n",
    "        output.clear_output()\n",
    "        with output:\n",
    "            path = \"/home/jupyter/data/demo_date_wise/\" + date_value + '/'\n",
    "            #display(Image(filename=path+change.new))\n",
    "            img = cv2.imread(path+change.new, 0)\n",
    "            plt.figure(figsize=(11,11))\n",
    "            plt.imshow(img, cmap= 'gray')\n",
    "            plt.xticks([])\n",
    "            plt.yticks([])\n",
    "            plt.show()\n",
    "\n",
    "dropdown_image_names.observe(on_change_image, names='value')\n",
    "display(dropdown_image_names)\n",
    "\n",
    "output = widgets.Output()\n",
    "display(output)\n",
    "with output:\n",
    "    # display(Image(filename=\"/home/jupyter/data/demo_date_wise/\" + date_value + '/' + default_image,width=1000, unconfined=False))\n",
    "    img = cv2.imread(\"/home/jupyter/data/demo_date_wise/\" + date_value + '/' + default_image, 0)\n",
    "    plt.figure(figsize=(11,11))\n",
    "    plt.imshow(img, cmap= 'gray')\n",
    "    plt.xticks([])\n",
    "    plt.yticks([])\n",
    "    plt.show()"
   ]
  },
  {
   "cell_type": "markdown",
   "metadata": {},
   "source": [
    "## Process Pipeline\n",
    "---"
   ]
  },
  {
   "cell_type": "markdown",
   "metadata": {},
   "source": [
    "The pipeline takes in remittance advice as input, performs OCR and extracts transactional data from input. The extracted data can be downloaded in form of spreadsheet."
   ]
  },
  {
   "cell_type": "code",
   "execution_count": null,
   "metadata": {
    "scrolled": true
   },
   "outputs": [],
   "source": [
    "button_out = widgets.Button(description='Run model',\n",
    "    disabled=False,\n",
    "    button_style='primary',\n",
    "    tooltip='Submit',\n",
    "    icon='fa-cogs')\n",
    "button_out.on_click(run_all)\n",
    "display(button_out)"
   ]
  },
  {
   "cell_type": "code",
   "execution_count": null,
   "metadata": {
    "scrolled": false
   },
   "outputs": [],
   "source": [
    "from IPython.display import HTML\n",
    "image_name = dropdown_image_names.value\n",
    "path = \"/home/jupyter/data/demo_date_wise/\" + date_value + '/' + image_name + '.hocr.hocrjs.html'\n",
    "file, extracted_params, temp = controller.main(filepath=path)\n",
    "store_path = '/home/jupyter/data/demo_date_wise_output/' + date_value\n",
    "controller.extract_data(file,temp,extracted_params,store_path)\n",
    "csv_data = find('{}*.csv'.format(image_name), store_path)\n",
    "df = pd.read_csv(csv_data[0])\n",
    "image_path = \"/home/jupyter/data/demo_date_wise/\" + date_value + '/' + image_name\n",
    "# html1 = '<img src='+image_path+' width=\"240\" height=\"240\" align=\"center\"/>'\n",
    "# display(HTML(html1))\n",
    "img = cv2.imread(image_path, 0)\n",
    "plt.figure(figsize=(11,11))\n",
    "plt.imshow(img, cmap= 'gray')\n",
    "plt.xticks([])\n",
    "plt.yticks([])\n",
    "plt.show()\n",
    "#display(Image(filename=\"/home/jupyter/data/demo_date_wise/\" + date_value + '/' + image_name, height=400, width=600))\n",
    "display(df.head(10))\n",
    "df.to_csv(\"Remittance_Advice\" + '.csv', index=False)\n"
   ]
  },
  {
   "cell_type": "markdown",
   "metadata": {},
   "source": [
    "## Download remittance advice"
   ]
  },
  {
   "cell_type": "code",
   "execution_count": null,
   "metadata": {},
   "outputs": [],
   "source": [
    "display(FileLink(\"Remittance_Advice\" + '.csv', result_html_prefix=\"Click here to download: \"))"
   ]
  },
  {
   "cell_type": "code",
   "execution_count": null,
   "metadata": {},
   "outputs": [],
   "source": [
    "# image_path = \"\" + date_value + '/' + image_name\n",
    "# html1 = '<img src=\"./AR-Automation-process-flow.png\" width=\"240\" height=\"240\" align=\"center\"/>'\n",
    "# display(HTML(html1))"
   ]
  },
  {
   "cell_type": "code",
   "execution_count": null,
   "metadata": {},
   "outputs": [],
   "source": [
    "# date_folders = os.listdir(\"/home/jupyter/data/demo_date_wise/\")\n",
    "# dd_date = widgets.Dropdown(\n",
    "#     options=date_folders,\n",
    "#     description='Select Date:',\n",
    "#     disabled=False,\n",
    "#     layout=widgets.Layout(align_items='center',width='350px'),\n",
    "#     style={'description_width':'initial'}\n",
    "# )\n",
    "\n",
    "# def on_change_of_date(change):\n",
    "#     with output_2:\n",
    "#         clear_output()\n",
    "#         filepath = '/home/jupyter/data/demo_date_wise/' + change.new\n",
    "#         filenames = os.listdir('/home/jupyter/data/demo_date_wise/' + change.new)\n",
    "#         for filename in filenames:\n",
    "#             if filename.endswith(\".html\"):\n",
    "#                 #print(os.path.join(filepath,filename))\n",
    "#                 # controller.main(filepath=os.path.join(filepath,filename))\n",
    "#                 file, extracted_params, temp = controller.main(filepath=os.path.join(filepath,filename))\n",
    "#                 store_path = '/home/jupyter/data/demo_date_wise_output/' + change.new\n",
    "#                 controller.extract_data(file,temp,extracted_params,store_path)\n",
    "#         csv_data = find(\"*.csv\", '/home/jupyter/data/demo_date_wise_output/' + change.new)\n",
    "#         for csv in csv_data:\n",
    "#             df = pd.read_csv(csv)\n",
    "#             display(df.head(10))\n",
    "# dd_date.observe(on_change_of_date, names='value')\n",
    "# display(dd_date)\n",
    "# output_2 = widgets.Output()\n",
    "# display(output_2)\n"
   ]
  },
  {
   "cell_type": "code",
   "execution_count": null,
   "metadata": {},
   "outputs": [],
   "source": [
    "## Download Merged  Spreadsheet"
   ]
  },
  {
   "cell_type": "code",
   "execution_count": null,
   "metadata": {},
   "outputs": [],
   "source": [
    "# merge_path = '/home/jupyter/data/demo_date_wise_output/'\n",
    "\n",
    "# date_folders = os.listdir(\"/home/jupyter/data/demo_date_wise_output/\")\n",
    "# merge = widgets.Dropdown(\n",
    "#     options=date_folders,\n",
    "#     description='Merge by date Selector:',\n",
    "#     disabled=False,\n",
    "#     layout={'width': 'max-content'},\n",
    "#     style={'description_width':'initial'}\n",
    "# )\n",
    "# def merge_csv(cust, csv_path, csv_list):\n",
    "#     cust_csv = cust+\".csv\"\n",
    "#     #csv_list.remove(cust+\".csv\")\n",
    "#     #csv_list.remove(cust_csv)\n",
    "#     combined_csv = pd.concat([pd.read_csv(os.path.join(csv_path,csv)) for csv in csv_list if csv.endswith(\".csv\")], ignore_index=True)\n",
    "#     print(\"Combined --> Start\")\n",
    "#     combined_csv.to_csv('./' + cust + '.csv', index=False)\n",
    "#     display(combined_csv)\n",
    "#     display(FileLink('./' + cust + '.csv', result_html_prefix=\"Click here to download: \"))\n",
    "#     print(\"Combined --> End\")\n",
    "\n",
    "# def on_change(change):\n",
    "#     with output_3:\n",
    "#         clear_output()\n",
    "#         filepath = '/home/jupyter/data/demo_date_wise_output/' + change.new + '/csv/'\n",
    "#         cust_name = os.listdir('/home/jupyter/data/demo_date_wise_output/' + change.new + '/csv/')\n",
    "#         for cust in cust_name:\n",
    "#             csv_path = '/home/jupyter/data/demo_date_wise_output/' + change.new + '/csv/' + cust\n",
    "#             csv_list = os.listdir('/home/jupyter/data/demo_date_wise_output/' + change.new + '/csv/' + cust)\n",
    "#             if len(csv_list) > 1:\n",
    "#                 print(cust)\n",
    "#                 merge_csv(cust, csv_path, csv_list)\n",
    "#             elif len(csv_list) <= 1:\n",
    "#                 print(\"Single CSV only\")\n",
    "# merge.observe(on_change, names='value')\n",
    "# display(merge)\n",
    "# output_3 = widgets.Output()\n",
    "# display(output_3)\n"
   ]
  }
 ],
 "metadata": {
  "kernelspec": {
   "display_name": "Python 3",
   "language": "python",
   "name": "python3"
  },
  "language_info": {
   "codemirror_mode": {
    "name": "ipython",
    "version": 3
   },
   "file_extension": ".py",
   "mimetype": "text/x-python",
   "name": "python",
   "nbconvert_exporter": "python",
   "pygments_lexer": "ipython3",
   "version": "3.7.9"
  }
 },
 "nbformat": 4,
 "nbformat_minor": 2
}
